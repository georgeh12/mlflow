{
 "cells": [
  {
   "cell_type": "code",
   "execution_count": 3,
   "metadata": {},
   "outputs": [],
   "source": [
    "# https://webrobots.io/kickstarter-datasets/\n",
    "\n",
    "# make directories for data collection\n",
    "import os\n",
    "\n",
    "# Unzip webrobots data to raw files\n",
    "import zipfile"
   ]
  },
  {
   "cell_type": "markdown",
   "metadata": {},
   "source": [
    "# Extract data from WebRobots zip files"
   ]
  },
  {
   "cell_type": "code",
   "execution_count": 7,
   "metadata": {},
   "outputs": [],
   "source": [
    "folder = 'webrobots'\n",
    "# Unzip files to raw output\n",
    "output_folder = '/'.join([folder,'raw'])\n",
    "zip_folder = '/'.join([folder,'zip'])\n",
    "\n",
    "# Loop through each zip file in the input folder\n",
    "for zip_file in os.listdir(zip_folder):\n",
    "    if zip_file.endswith('.zip'):\n",
    "        unzipped_dir = '/'.join([output_folder, os.path.basename(zip_file)])\n",
    "        zip_path = '/'.join([zip_folder, zip_file])\n",
    "        # Ensure the output folder exists\n",
    "        os.makedirs(unzipped_dir, exist_ok=True)\n",
    "        with zipfile.ZipFile(zip_path, 'r') as zip_ref:\n",
    "            # Extract all contents of the zip file to the output folder\n",
    "            zip_ref.extractall(unzipped_dir)\n"
   ]
  }
 ],
 "metadata": {
  "kernelspec": {
   "display_name": "Python 3",
   "language": "python",
   "name": "python3"
  },
  "language_info": {
   "codemirror_mode": {
    "name": "ipython",
    "version": 3
   },
   "file_extension": ".py",
   "mimetype": "text/x-python",
   "name": "python",
   "nbconvert_exporter": "python",
   "pygments_lexer": "ipython3",
   "version": "3.10.8"
  }
 },
 "nbformat": 4,
 "nbformat_minor": 2
}
