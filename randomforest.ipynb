{
 "cells": [
  {
   "cell_type": "markdown",
   "metadata": {
    "toc": true
   },
   "source": [
    "# Test file"
   ]
  },
  {
   "cell_type": "markdown",
   "metadata": {},
   "source": [
    "## Imports"
   ]
  },
  {
   "cell_type": "code",
   "execution_count": 1,
   "metadata": {},
   "outputs": [],
   "source": [
    "# MLflow\n",
    "import mlflow\n",
    "from mlflow.models import infer_signature\n",
    "\n",
    "# MLflow model\n",
    "from sklearn import datasets\n",
    "from sklearn.model_selection import train_test_split\n",
    "from sklearn.linear_model import LinearRegression\n",
    "from sklearn.metrics import accuracy_score, precision_score, recall_score, f1_score\n",
    "from sklearn.metrics import mean_absolute_error, mean_squared_error, r2_score\n",
    "\n",
    "# Visualizations\n",
    "import matplotlib.pyplot as plt\n",
    "\n",
    "# math functions\n",
    "import numpy as np"
   ]
  },
  {
   "cell_type": "markdown",
   "metadata": {},
   "source": [
    "## Load training data"
   ]
  },
  {
   "cell_type": "code",
   "execution_count": 2,
   "metadata": {},
   "outputs": [],
   "source": [
    "# read CSV file\n",
    "import os\n",
    "import glob\n",
    "\n",
    "# data frames\n",
    "import pandas as pd\n",
    "\n",
    "# future warnings\n",
    "import warnings\n",
    "warnings.filterwarnings(\"ignore\")\n",
    "\n",
    "df = pd.DataFrame()\n",
    "df_files = {}\n",
    "for fname in glob.glob(os.path.abspath('./data/**/*.csv')):\n",
    "    _df=pd.read_csv(fname)\n",
    "    df = df.append(_df.copy(), ignore_index=True)\n",
    "    break\n",
    "    df_files[os.path.basename(fname)] = _df\n",
    "    \n",
    "df['ai_mention'] = df['blurb'].str.contains('artificial intelligence')\n",
    "df['backers_count'] = pd.to_numeric(df['backers_count'], errors='coerce')\n",
    "df = df.dropna(subset=[\"backers_count\"], how=\"all\")\n",
    "df = df.dropna(subset=[\"ai_mention\"], how=\"all\")"
   ]
  },
  {
   "cell_type": "code",
   "execution_count": 3,
   "metadata": {},
   "outputs": [
    {
     "name": "stdout",
     "output_type": "stream",
     "text": [
      "3322\n",
      "<class 'pandas.core.frame.DataFrame'>\n",
      "RangeIndex: 3322 entries, 0 to 3321\n",
      "Data columns (total 42 columns):\n",
      " #   Column                    Non-Null Count  Dtype  \n",
      "---  ------                    --------------  -----  \n",
      " 0   backers_count             3322 non-null   int64  \n",
      " 1   blurb                     3322 non-null   object \n",
      " 2   category                  3322 non-null   object \n",
      " 3   converted_pledged_amount  3173 non-null   float64\n",
      " 4   country                   3322 non-null   object \n",
      " 5   country_displayable_name  3322 non-null   object \n",
      " 6   created_at                3322 non-null   int64  \n",
      " 7   creator                   3322 non-null   object \n",
      " 8   currency                  3322 non-null   object \n",
      " 9   currency_symbol           3322 non-null   object \n",
      " 10  currency_trailing_code    3322 non-null   bool   \n",
      " 11  current_currency          3322 non-null   object \n",
      " 12  deadline                  3322 non-null   int64  \n",
      " 13  disable_communication     3322 non-null   bool   \n",
      " 14  fx_rate                   3322 non-null   float64\n",
      " 15  goal                      3322 non-null   float64\n",
      " 16  id                        3322 non-null   int64  \n",
      " 17  is_disliked               3322 non-null   bool   \n",
      " 18  is_launched               3322 non-null   bool   \n",
      " 19  is_liked                  3322 non-null   bool   \n",
      " 20  is_starrable              3322 non-null   bool   \n",
      " 21  launched_at               3322 non-null   int64  \n",
      " 22  location                  3315 non-null   object \n",
      " 23  name                      3322 non-null   object \n",
      " 24  percent_funded            3322 non-null   float64\n",
      " 25  photo                     3322 non-null   object \n",
      " 26  pledged                   3322 non-null   float64\n",
      " 27  prelaunch_activated       3322 non-null   bool   \n",
      " 28  profile                   3322 non-null   object \n",
      " 29  slug                      3322 non-null   object \n",
      " 30  source_url                3322 non-null   object \n",
      " 31  spotlight                 3322 non-null   bool   \n",
      " 32  staff_pick                3322 non-null   bool   \n",
      " 33  state                     3322 non-null   object \n",
      " 34  state_changed_at          3322 non-null   int64  \n",
      " 35  static_usd_rate           3322 non-null   float64\n",
      " 36  urls                      3322 non-null   object \n",
      " 37  usd_exchange_rate         3173 non-null   float64\n",
      " 38  usd_pledged               3173 non-null   float64\n",
      " 39  usd_type                  3322 non-null   object \n",
      " 40  video                     2284 non-null   object \n",
      " 41  ai_mention                3322 non-null   bool   \n",
      "dtypes: bool(10), float64(8), int64(6), object(18)\n",
      "memory usage: 863.1+ KB\n"
     ]
    },
    {
     "data": {
      "text/html": [
       "<div>\n",
       "<style scoped>\n",
       "    .dataframe tbody tr th:only-of-type {\n",
       "        vertical-align: middle;\n",
       "    }\n",
       "\n",
       "    .dataframe tbody tr th {\n",
       "        vertical-align: top;\n",
       "    }\n",
       "\n",
       "    .dataframe thead th {\n",
       "        text-align: right;\n",
       "    }\n",
       "</style>\n",
       "<table border=\"1\" class=\"dataframe\">\n",
       "  <thead>\n",
       "    <tr style=\"text-align: right;\">\n",
       "      <th></th>\n",
       "      <th>backers_count</th>\n",
       "      <th>blurb</th>\n",
       "      <th>category</th>\n",
       "      <th>converted_pledged_amount</th>\n",
       "      <th>country</th>\n",
       "      <th>country_displayable_name</th>\n",
       "      <th>created_at</th>\n",
       "      <th>creator</th>\n",
       "      <th>currency</th>\n",
       "      <th>currency_symbol</th>\n",
       "      <th>...</th>\n",
       "      <th>staff_pick</th>\n",
       "      <th>state</th>\n",
       "      <th>state_changed_at</th>\n",
       "      <th>static_usd_rate</th>\n",
       "      <th>urls</th>\n",
       "      <th>usd_exchange_rate</th>\n",
       "      <th>usd_pledged</th>\n",
       "      <th>usd_type</th>\n",
       "      <th>video</th>\n",
       "      <th>ai_mention</th>\n",
       "    </tr>\n",
       "  </thead>\n",
       "  <tbody>\n",
       "    <tr>\n",
       "      <th>1483</th>\n",
       "      <td>3</td>\n",
       "      <td>The website-builder of the future! Create your...</td>\n",
       "      <td>{\"id\":51,\"name\":\"Software\",\"analytics_name\":\"S...</td>\n",
       "      <td>1545.0</td>\n",
       "      <td>DE</td>\n",
       "      <td>Germany</td>\n",
       "      <td>1698328174</td>\n",
       "      <td>{\"id\":74185941,\"name\":\"Christopher Wittmann\",\"...</td>\n",
       "      <td>EUR</td>\n",
       "      <td>€</td>\n",
       "      <td>...</td>\n",
       "      <td>False</td>\n",
       "      <td>failed</td>\n",
       "      <td>1704633241</td>\n",
       "      <td>1.070668</td>\n",
       "      <td>{\"web\":{\"project\":\"https://www.kickstarter.com...</td>\n",
       "      <td>1.095470</td>\n",
       "      <td>1510.713112</td>\n",
       "      <td>domestic</td>\n",
       "      <td>{\"id\":1258123,\"status\":\"successful\",\"hls\":\"htt...</td>\n",
       "      <td>True</td>\n",
       "    </tr>\n",
       "    <tr>\n",
       "      <th>2905</th>\n",
       "      <td>2</td>\n",
       "      <td>Analyze the financial statements of businesses...</td>\n",
       "      <td>{\"id\":51,\"name\":\"Software\",\"analytics_name\":\"S...</td>\n",
       "      <td>19.0</td>\n",
       "      <td>GB</td>\n",
       "      <td>the United Kingdom</td>\n",
       "      <td>1666485650</td>\n",
       "      <td>{\"id\":772337108,\"name\":\"Hakkı Özgür ALACA\",\"sl...</td>\n",
       "      <td>GBP</td>\n",
       "      <td>£</td>\n",
       "      <td>...</td>\n",
       "      <td>False</td>\n",
       "      <td>failed</td>\n",
       "      <td>1672179074</td>\n",
       "      <td>1.161044</td>\n",
       "      <td>{\"web\":{\"project\":\"https://www.kickstarter.com...</td>\n",
       "      <td>1.208789</td>\n",
       "      <td>18.576700</td>\n",
       "      <td>domestic</td>\n",
       "      <td>{\"id\":1192761,\"status\":\"successful\",\"hls\":\"htt...</td>\n",
       "      <td>True</td>\n",
       "    </tr>\n",
       "  </tbody>\n",
       "</table>\n",
       "<p>2 rows × 42 columns</p>\n",
       "</div>"
      ],
      "text/plain": [
       "      backers_count                                              blurb  \\\n",
       "1483              3  The website-builder of the future! Create your...   \n",
       "2905              2  Analyze the financial statements of businesses...   \n",
       "\n",
       "                                               category  \\\n",
       "1483  {\"id\":51,\"name\":\"Software\",\"analytics_name\":\"S...   \n",
       "2905  {\"id\":51,\"name\":\"Software\",\"analytics_name\":\"S...   \n",
       "\n",
       "      converted_pledged_amount country country_displayable_name  created_at  \\\n",
       "1483                    1545.0      DE                  Germany  1698328174   \n",
       "2905                      19.0      GB       the United Kingdom  1666485650   \n",
       "\n",
       "                                                creator currency  \\\n",
       "1483  {\"id\":74185941,\"name\":\"Christopher Wittmann\",\"...      EUR   \n",
       "2905  {\"id\":772337108,\"name\":\"Hakkı Özgür ALACA\",\"sl...      GBP   \n",
       "\n",
       "     currency_symbol  ...  staff_pick   state  state_changed_at  \\\n",
       "1483               €  ...       False  failed        1704633241   \n",
       "2905               £  ...       False  failed        1672179074   \n",
       "\n",
       "      static_usd_rate                                               urls  \\\n",
       "1483         1.070668  {\"web\":{\"project\":\"https://www.kickstarter.com...   \n",
       "2905         1.161044  {\"web\":{\"project\":\"https://www.kickstarter.com...   \n",
       "\n",
       "      usd_exchange_rate  usd_pledged  usd_type  \\\n",
       "1483           1.095470  1510.713112  domestic   \n",
       "2905           1.208789    18.576700  domestic   \n",
       "\n",
       "                                                  video  ai_mention  \n",
       "1483  {\"id\":1258123,\"status\":\"successful\",\"hls\":\"htt...        True  \n",
       "2905  {\"id\":1192761,\"status\":\"successful\",\"hls\":\"htt...        True  \n",
       "\n",
       "[2 rows x 42 columns]"
      ]
     },
     "execution_count": 3,
     "metadata": {},
     "output_type": "execute_result"
    }
   ],
   "source": [
    "print(len(df.index))\n",
    "df.info()\n",
    "df.loc[df['ai_mention']==True]"
   ]
  },
  {
   "cell_type": "markdown",
   "metadata": {},
   "source": [
    "## Train the model"
   ]
  },
  {
   "cell_type": "code",
   "execution_count": 10,
   "metadata": {},
   "outputs": [
    {
     "name": "stderr",
     "output_type": "stream",
     "text": [
      "2024/02/14 17:59:26 INFO mlflow.tracking.fluent: Autologging successfully enabled for sklearn.\n",
      "2024/02/14 17:59:26 INFO mlflow.utils.autologging_utils: Created MLflow autologging run with ID 'e147313494a2438a9e50dcd44ac44ee6', which will track hyperparameters, performance metrics, model artifacts, and lineage information for the current sklearn workflow\n"
     ]
    }
   ],
   "source": [
    "# MLflow model\n",
    "from sklearn import datasets\n",
    "from sklearn.model_selection import train_test_split\n",
    "from sklearn.linear_model import LinearRegression\n",
    "from sklearn.linear_model import LogisticRegression\n",
    "from sklearn.ensemble import RandomForestRegressor\n",
    "from sklearn.impute import SimpleImputer as imp\n",
    "\n",
    "# Enable automatic logging to MLflow\n",
    "mlflow.set_experiment(\"MLflow\")\n",
    "mlflow.autolog()\n",
    "\n",
    "# Use the Kickstarter dataset\n",
    "\"\"\"\n",
    "    ['backers_count', 'blurb', 'category', 'converted_pledged_amount', 'country', 'country_displayable_name', \n",
    "    'created_at', 'creator', 'currency', 'currency_symbol', 'currency_trailing_code', 'current_currency', 'deadline', \n",
    "    'disable_communication', 'fx_rate', 'goal', 'id', 'is_disliked', 'is_launched', 'is_liked', 'is_starrable', \n",
    "    'launched_at', 'location', 'name', 'percent_funded', 'photo', 'pledged', 'prelaunch_activated', 'profile', \n",
    "    'slug', 'source_url', 'spotlight', 'staff_pick', 'state', 'state_changed_at', 'static_usd_rate', 'urls', \n",
    "    'usd_exchange_rate', 'usd_pledged', 'usd_type', 'video']\n",
    "\"\"\"\n",
    "X = df[['backers_count','spotlight','staff_pick','percent_funded']]\n",
    "y = df['ai_mention']\n",
    "\n",
    "# Split the data into training and test sets\n",
    "X_train, X_test, y_train, y_test = train_test_split(X, y)\n",
    "\n",
    "params = {'n_estimators':100, 'max_depth':6, 'max_features':3}\n",
    "\n",
    "# Train the model\n",
    "rf = RandomForestRegressor(**params)\n",
    "\n",
    "# MLflow triggers logging automatically upon model fitting\n",
    "rf.fit(X_train, y_train)\n",
    "\n",
    "# Predict on the test set\n",
    "y_pred = rf.predict(X_test)"
   ]
  },
  {
   "cell_type": "markdown",
   "metadata": {},
   "source": [
    "## Graph the model"
   ]
  },
  {
   "cell_type": "code",
   "execution_count": 12,
   "metadata": {},
   "outputs": [
    {
     "name": "stdout",
     "output_type": "stream",
     "text": [
      "0.0005800577280721686\n"
     ]
    },
    {
     "ename": "ValueError",
     "evalue": "x and y must be the same size",
     "output_type": "error",
     "traceback": [
      "\u001b[1;31m---------------------------------------------------------------------------\u001b[0m",
      "\u001b[1;31mValueError\u001b[0m                                Traceback (most recent call last)",
      "Cell \u001b[1;32mIn[12], line 3\u001b[0m\n\u001b[0;32m      1\u001b[0m accuracy \u001b[38;5;241m=\u001b[39m mean_absolute_error(y_test, y_pred)\n\u001b[0;32m      2\u001b[0m \u001b[38;5;28mprint\u001b[39m(accuracy)\n\u001b[1;32m----> 3\u001b[0m \u001b[43mplt\u001b[49m\u001b[38;5;241;43m.\u001b[39;49m\u001b[43mscatter\u001b[49m\u001b[43m(\u001b[49m\u001b[43mX_train\u001b[49m\u001b[43m,\u001b[49m\u001b[43m \u001b[49m\u001b[43my_train\u001b[49m\u001b[43m,\u001b[49m\u001b[43m \u001b[49m\u001b[43mcolor\u001b[49m\u001b[38;5;241;43m=\u001b[39;49m\u001b[38;5;124;43m'\u001b[39;49m\u001b[38;5;124;43mred\u001b[39;49m\u001b[38;5;124;43m'\u001b[39;49m\u001b[43m)\u001b[49m\n\u001b[0;32m      4\u001b[0m plt\u001b[38;5;241m.\u001b[39mplot(X_test, y_pred, color\u001b[38;5;241m=\u001b[39m\u001b[38;5;124m'\u001b[39m\u001b[38;5;124mblue\u001b[39m\u001b[38;5;124m'\u001b[39m, linewidth\u001b[38;5;241m=\u001b[39m\u001b[38;5;241m3\u001b[39m)\n\u001b[0;32m      5\u001b[0m plt\u001b[38;5;241m.\u001b[39mxlabel(\u001b[38;5;124m'\u001b[39m\u001b[38;5;124mAI mention\u001b[39m\u001b[38;5;124m'\u001b[39m)\n",
      "File \u001b[1;32mc:\\Users\\georg\\Documents\\GitHub\\.venv\\lib\\site-packages\\matplotlib\\pyplot.py:3684\u001b[0m, in \u001b[0;36mscatter\u001b[1;34m(x, y, s, c, marker, cmap, norm, vmin, vmax, alpha, linewidths, edgecolors, plotnonfinite, data, **kwargs)\u001b[0m\n\u001b[0;32m   3665\u001b[0m \u001b[38;5;129m@_copy_docstring_and_deprecators\u001b[39m(Axes\u001b[38;5;241m.\u001b[39mscatter)\n\u001b[0;32m   3666\u001b[0m \u001b[38;5;28;01mdef\u001b[39;00m \u001b[38;5;21mscatter\u001b[39m(\n\u001b[0;32m   3667\u001b[0m     x: \u001b[38;5;28mfloat\u001b[39m \u001b[38;5;241m|\u001b[39m ArrayLike,\n\u001b[1;32m   (...)\u001b[0m\n\u001b[0;32m   3682\u001b[0m     \u001b[38;5;241m*\u001b[39m\u001b[38;5;241m*\u001b[39mkwargs,\n\u001b[0;32m   3683\u001b[0m ) \u001b[38;5;241m-\u001b[39m\u001b[38;5;241m>\u001b[39m PathCollection:\n\u001b[1;32m-> 3684\u001b[0m     __ret \u001b[38;5;241m=\u001b[39m gca()\u001b[38;5;241m.\u001b[39mscatter(\n\u001b[0;32m   3685\u001b[0m         x,\n\u001b[0;32m   3686\u001b[0m         y,\n\u001b[0;32m   3687\u001b[0m         s\u001b[38;5;241m=\u001b[39ms,\n\u001b[0;32m   3688\u001b[0m         c\u001b[38;5;241m=\u001b[39mc,\n\u001b[0;32m   3689\u001b[0m         marker\u001b[38;5;241m=\u001b[39mmarker,\n\u001b[0;32m   3690\u001b[0m         cmap\u001b[38;5;241m=\u001b[39mcmap,\n\u001b[0;32m   3691\u001b[0m         norm\u001b[38;5;241m=\u001b[39mnorm,\n\u001b[0;32m   3692\u001b[0m         vmin\u001b[38;5;241m=\u001b[39mvmin,\n\u001b[0;32m   3693\u001b[0m         vmax\u001b[38;5;241m=\u001b[39mvmax,\n\u001b[0;32m   3694\u001b[0m         alpha\u001b[38;5;241m=\u001b[39malpha,\n\u001b[0;32m   3695\u001b[0m         linewidths\u001b[38;5;241m=\u001b[39mlinewidths,\n\u001b[0;32m   3696\u001b[0m         edgecolors\u001b[38;5;241m=\u001b[39medgecolors,\n\u001b[0;32m   3697\u001b[0m         plotnonfinite\u001b[38;5;241m=\u001b[39mplotnonfinite,\n\u001b[0;32m   3698\u001b[0m         \u001b[38;5;241m*\u001b[39m\u001b[38;5;241m*\u001b[39m({\u001b[38;5;124m\"\u001b[39m\u001b[38;5;124mdata\u001b[39m\u001b[38;5;124m\"\u001b[39m: data} \u001b[38;5;28;01mif\u001b[39;00m data \u001b[38;5;129;01mis\u001b[39;00m \u001b[38;5;129;01mnot\u001b[39;00m \u001b[38;5;28;01mNone\u001b[39;00m \u001b[38;5;28;01melse\u001b[39;00m {}),\n\u001b[0;32m   3699\u001b[0m         \u001b[38;5;241m*\u001b[39m\u001b[38;5;241m*\u001b[39mkwargs,\n\u001b[0;32m   3700\u001b[0m     )\n\u001b[0;32m   3701\u001b[0m     sci(__ret)\n\u001b[0;32m   3702\u001b[0m     \u001b[38;5;28;01mreturn\u001b[39;00m __ret\n",
      "File \u001b[1;32mc:\\Users\\georg\\Documents\\GitHub\\.venv\\lib\\site-packages\\matplotlib\\__init__.py:1478\u001b[0m, in \u001b[0;36m_preprocess_data.<locals>.inner\u001b[1;34m(ax, data, *args, **kwargs)\u001b[0m\n\u001b[0;32m   1475\u001b[0m \u001b[38;5;129m@functools\u001b[39m\u001b[38;5;241m.\u001b[39mwraps(func)\n\u001b[0;32m   1476\u001b[0m \u001b[38;5;28;01mdef\u001b[39;00m \u001b[38;5;21minner\u001b[39m(ax, \u001b[38;5;241m*\u001b[39margs, data\u001b[38;5;241m=\u001b[39m\u001b[38;5;28;01mNone\u001b[39;00m, \u001b[38;5;241m*\u001b[39m\u001b[38;5;241m*\u001b[39mkwargs):\n\u001b[0;32m   1477\u001b[0m     \u001b[38;5;28;01mif\u001b[39;00m data \u001b[38;5;129;01mis\u001b[39;00m \u001b[38;5;28;01mNone\u001b[39;00m:\n\u001b[1;32m-> 1478\u001b[0m         \u001b[38;5;28;01mreturn\u001b[39;00m func(ax, \u001b[38;5;241m*\u001b[39m\u001b[38;5;28mmap\u001b[39m(sanitize_sequence, args), \u001b[38;5;241m*\u001b[39m\u001b[38;5;241m*\u001b[39mkwargs)\n\u001b[0;32m   1480\u001b[0m     bound \u001b[38;5;241m=\u001b[39m new_sig\u001b[38;5;241m.\u001b[39mbind(ax, \u001b[38;5;241m*\u001b[39margs, \u001b[38;5;241m*\u001b[39m\u001b[38;5;241m*\u001b[39mkwargs)\n\u001b[0;32m   1481\u001b[0m     auto_label \u001b[38;5;241m=\u001b[39m (bound\u001b[38;5;241m.\u001b[39marguments\u001b[38;5;241m.\u001b[39mget(label_namer)\n\u001b[0;32m   1482\u001b[0m                   \u001b[38;5;129;01mor\u001b[39;00m bound\u001b[38;5;241m.\u001b[39mkwargs\u001b[38;5;241m.\u001b[39mget(label_namer))\n",
      "File \u001b[1;32mc:\\Users\\georg\\Documents\\GitHub\\.venv\\lib\\site-packages\\matplotlib\\axes\\_axes.py:4652\u001b[0m, in \u001b[0;36mAxes.scatter\u001b[1;34m(self, x, y, s, c, marker, cmap, norm, vmin, vmax, alpha, linewidths, edgecolors, plotnonfinite, **kwargs)\u001b[0m\n\u001b[0;32m   4650\u001b[0m y \u001b[38;5;241m=\u001b[39m np\u001b[38;5;241m.\u001b[39mma\u001b[38;5;241m.\u001b[39mravel(y)\n\u001b[0;32m   4651\u001b[0m \u001b[38;5;28;01mif\u001b[39;00m x\u001b[38;5;241m.\u001b[39msize \u001b[38;5;241m!=\u001b[39m y\u001b[38;5;241m.\u001b[39msize:\n\u001b[1;32m-> 4652\u001b[0m     \u001b[38;5;28;01mraise\u001b[39;00m \u001b[38;5;167;01mValueError\u001b[39;00m(\u001b[38;5;124m\"\u001b[39m\u001b[38;5;124mx and y must be the same size\u001b[39m\u001b[38;5;124m\"\u001b[39m)\n\u001b[0;32m   4654\u001b[0m \u001b[38;5;28;01mif\u001b[39;00m s \u001b[38;5;129;01mis\u001b[39;00m \u001b[38;5;28;01mNone\u001b[39;00m:\n\u001b[0;32m   4655\u001b[0m     s \u001b[38;5;241m=\u001b[39m (\u001b[38;5;241m20\u001b[39m \u001b[38;5;28;01mif\u001b[39;00m mpl\u001b[38;5;241m.\u001b[39mrcParams[\u001b[38;5;124m'\u001b[39m\u001b[38;5;124m_internal.classic_mode\u001b[39m\u001b[38;5;124m'\u001b[39m] \u001b[38;5;28;01melse\u001b[39;00m\n\u001b[0;32m   4656\u001b[0m          mpl\u001b[38;5;241m.\u001b[39mrcParams[\u001b[38;5;124m'\u001b[39m\u001b[38;5;124mlines.markersize\u001b[39m\u001b[38;5;124m'\u001b[39m] \u001b[38;5;241m*\u001b[39m\u001b[38;5;241m*\u001b[39m \u001b[38;5;241m2.0\u001b[39m)\n",
      "\u001b[1;31mValueError\u001b[0m: x and y must be the same size"
     ]
    },
    {
     "data": {
      "image/png": "[encoded data removed]",
      "text/plain": [
       "<Figure size 640x480 with 1 Axes>"
      ]
     },
     "metadata": {},
     "output_type": "display_data"
    }
   ],
   "source": [
    "accuracy = mean_absolute_error(y_test, y_pred)\n",
    "print(accuracy)\n",
    "plt.scatter(X_train, y_train, color='red')\n",
    "plt.plot(X_test, y_pred, color='blue', linewidth=3)\n",
    "plt.xlabel('AI mention')\n",
    "plt.ylabel('Backers')\n",
    "plt.title('Linear Regression - AI mention vs. Backers')\n",
    "plt.show()"
   ]
  },
  {
   "cell_type": "code",
   "execution_count": null,
   "metadata": {},
   "outputs": [],
   "source": [
    "# Random Forest test\n",
    "from sklearn.ensemble import RandomForestRegressor\n",
    "from sklearn.tree import export_graphviz\n",
    "\n",
    "#area,bedrooms,bathrooms,stories,mainroad,guestroom,basement,hotwaterheating,airconditioning,parking,prefarea,furnishingstatus\n",
    "X = dataset[['area','bedrooms','bathrooms','stories']]\n",
    "rf_X_train, rf_X_test, rf_y_train, rf_y_test = train_test_split(X, y)\n",
    "rf = RandomForestRegressor(n_estimators=100, max_depth=6, max_features=3)\n",
    "\n",
    "rf_y_pred = rf.fit(rf_X_train, rf_y_train)"
   ]
  }
 ],
 "metadata": {
  "kernelspec": {
   "display_name": "Python 3",
   "language": "python",
   "name": "python3"
  },
  "language_info": {
   "codemirror_mode": {
    "name": "ipython",
    "version": 3
   },
   "file_extension": ".py",
   "mimetype": "text/x-python",
   "name": "python",
   "nbconvert_exporter": "python",
   "pygments_lexer": "ipython3",
   "version": "3.10.8"
  },
  "toc": {
   "base_numbering": 1,
   "nav_menu": {},
   "number_sections": true,
   "sideBar": true,
   "skip_h1_title": false,
   "title_cell": "Table of Contents",
   "title_sidebar": "Contents",
   "toc_cell": true,
   "toc_position": {},
   "toc_section_display": true,
   "toc_window_display": false
  }
 },
 "nbformat": 4,
 "nbformat_minor": 4
}
